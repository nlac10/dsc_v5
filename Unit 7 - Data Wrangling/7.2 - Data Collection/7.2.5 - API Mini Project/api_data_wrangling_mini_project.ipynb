{
 "cells": [
  {
   "cell_type": "markdown",
   "metadata": {},
   "source": [
    "This exercise will require you to pull some data from https://data.nasdaq.com/ (formerly Quandl API)."
   ]
  },
  {
   "cell_type": "markdown",
   "metadata": {},
   "source": [
    "As a first step, you will need to register a free account on the https://data.nasdaq.com/ website."
   ]
  },
  {
   "cell_type": "markdown",
   "metadata": {},
   "source": [
    "After you register, you will be provided with a unique API key, that you should store:\n",
    "\n",
    "*Note*: Use a `.env` file and put your key in there and `python-dotenv` to access it in this notebook. \n",
    "\n",
    "The code below uses a key that was used when generating this project but has since been deleted. Never submit your keys to source control. There is a `.env-example` file in this repository to illusrtate what you need. Copy that to a file called `.env` and use your own api key in that `.env` file. Make sure you also have a `.gitignore` file with a line for `.env` added to it. \n",
    "\n",
    "The standard Python gitignore is [here](https://github.com/github/gitignore/blob/master/Python.gitignore) you can just copy that. "
   ]
  },
  {
   "cell_type": "code",
   "execution_count": null,
   "metadata": {
    "ExecuteTime": {
     "end_time": "2021-12-25T08:31:21.960061Z",
     "start_time": "2021-12-25T08:31:21.948102Z"
    }
   },
   "outputs": [],
   "source": [
    "# get api key from your .env file\n",
    "import os\n",
    "from dotenv import load_dotenv\n",
    "\n",
    "load_dotenv()\n",
    "API_KEY = os.getenv('NASDAQ_API_KEY')\n",
    "\n",
    "\n",
    "print(API_KEY)"
   ]
  },
  {
   "cell_type": "markdown",
   "metadata": {},
   "source": [
    "Nasdaq Data has a large number of data sources, but, unfortunately, most of them require a Premium subscription. Still, there are also a good number of free datasets."
   ]
  },
  {
   "cell_type": "markdown",
   "metadata": {},
   "source": [
    "For this mini project, we will focus on equities data from the Frankfurt Stock Exhange (FSE), which is available for free. We'll try and analyze the stock prices of a company called Carl Zeiss Meditec, which manufactures tools for eye examinations, as well as medical lasers for laser eye surgery: https://www.zeiss.com/meditec/int/home.html. The company is listed under the stock ticker AFX_X."
   ]
  },
  {
   "cell_type": "markdown",
   "metadata": {},
   "source": [
    "\n",
    "You can find the detailed Nasdaq Data API instructions here: https://docs.data.nasdaq.com/docs/in-depth-usage"
   ]
  },
  {
   "cell_type": "markdown",
   "metadata": {},
   "source": [
    "While there is a dedicated Python package for connecting to the Nasdaq API, we would prefer that you use the *requests* package, which can be easily downloaded using *pip* or *conda*. You can find the documentation for the package here: http://docs.python-requests.org/en/master/ "
   ]
  },
  {
   "cell_type": "code",
   "execution_count": 1,
   "metadata": {
    "ExecuteTime": {
     "end_time": "2021-12-26T08:01:27.954278Z",
     "start_time": "2021-12-26T08:01:26.675928Z"
    }
   },
   "outputs": [
    {
     "name": "stdout",
     "output_type": "stream",
     "text": [
      "Requirement already satisfied: requests in /usr/local/lib/python3.8/site-packages (2.24.0)\n",
      "Requirement already satisfied: certifi>=2017.4.17 in /usr/local/lib/python3.8/site-packages (from requests) (2020.6.20)\n",
      "Requirement already satisfied: chardet<4,>=3.0.2 in /usr/local/lib/python3.8/site-packages (from requests) (3.0.4)\n",
      "Requirement already satisfied: urllib3!=1.25.0,!=1.25.1,<1.26,>=1.21.1 in /usr/local/lib/python3.8/site-packages (from requests) (1.25.10)\n",
      "Requirement already satisfied: idna<3,>=2.5 in /usr/local/lib/python3.8/site-packages (from requests) (2.10)\n",
      "Note: you may need to restart the kernel to use updated packages.\n"
     ]
    }
   ],
   "source": [
    "%pip install requests"
   ]
  },
  {
   "cell_type": "code",
   "execution_count": null,
   "metadata": {},
   "outputs": [],
   "source": []
  },
  {
   "cell_type": "markdown",
   "metadata": {},
   "source": [
    "Finally, apart from the *requests* package, you are encouraged to not use any third party Python packages, such as *pandas*, and instead focus on what's available in the Python Standard Library (the *collections* module might come in handy: https://pymotw.com/3/collections/).\n",
    "Also, since you won't have access to DataFrames, you are encouraged to us Python's native data structures - preferably dictionaries, though some questions can also be answered using lists.\n",
    "You can read more on these data structures here: https://docs.python.org/3/tutorial/datastructures.html"
   ]
  },
  {
   "cell_type": "markdown",
   "metadata": {},
   "source": [
    "Keep in mind that the JSON responses you will be getting from the API map almost one-to-one to Python's dictionaries. Unfortunately, they can be very nested, so make sure you read up on indexing dictionaries in the documentation provided above."
   ]
  },
  {
   "cell_type": "code",
   "execution_count": 2,
   "metadata": {
    "ExecuteTime": {
     "end_time": "2021-12-26T08:01:30.865562Z",
     "start_time": "2021-12-26T08:01:30.756245Z"
    }
   },
   "outputs": [],
   "source": [
    "# First, import the relevant modules\n",
    "import requests, collections, json"
   ]
  },
  {
   "cell_type": "markdown",
   "metadata": {},
   "source": [
    "Note: API's can change a bit with each version, for this exercise it is reccomended to use the nasdaq api at `https://data.nasdaq.com/api/v3/`. This is the same api as what used to be quandl so `https://www.quandl.com/api/v3/` should work too.\n",
    "\n",
    "Hint: We are looking for the `AFX_X` data on the `datasets/FSE/` dataset."
   ]
  },
  {
   "cell_type": "code",
   "execution_count": null,
   "metadata": {
    "ExecuteTime": {
     "end_time": "2021-12-26T07:38:34.709008Z",
     "start_time": "2021-12-26T07:38:34.031721Z"
    }
   },
   "outputs": [],
   "source": [
    "# Now, call the Nasdaq API and pull out a small sample of the data (only one day) to get a glimpse\n",
    "# into the JSON structure that will be returned\n",
    "\n",
    "# put your params\n",
    "my_params = {'limit': '1'}\n",
    "\n",
    "r = requests.get(\"https://data.nasdaq.com/api/v3/datasets/FSE/AFX_X.json?api_key=9_fVkE8xTZRMwTqYLB9A\",params=my_params)\n",
    "\n",
    "print(type(r.text))"
   ]
  },
  {
   "cell_type": "code",
   "execution_count": null,
   "metadata": {
    "ExecuteTime": {
     "end_time": "2021-12-26T07:52:23.321780Z",
     "start_time": "2021-12-26T07:52:23.311252Z"
    }
   },
   "outputs": [],
   "source": [
    "# converts the class str in var r and converts it to class dic \n",
    "data = json.loads(r.text)\n",
    "print(type(data))\n",
    "\n",
    "# formats betters, but turns dic into string\n",
    "data = json.dumps(data, indent=4, sort_keys=True)\n",
    "print(type(data))\n",
    "\n",
    "print(data)"
   ]
  },
  {
   "cell_type": "code",
   "execution_count": null,
   "metadata": {
    "ExecuteTime": {
     "end_time": "2021-12-25T08:57:29.823004Z",
     "start_time": "2021-12-25T08:57:29.820929Z"
    }
   },
   "outputs": [],
   "source": [
    "# Inspect the JSON structure of the object you created, and take note of how nested it is,\n",
    "# as well as the overall structure"
   ]
  },
  {
   "cell_type": "markdown",
   "metadata": {},
   "source": [
    "1. Collect data from the Franfurt Stock Exchange, for the ticker AFX_X, for the whole year 2017 (keep in mind that the date format is YYYY-MM-DD)."
   ]
  },
  {
   "cell_type": "code",
   "execution_count": 4,
   "metadata": {
    "ExecuteTime": {
     "end_time": "2021-12-26T08:04:54.502144Z",
     "start_time": "2021-12-26T08:04:53.932854Z"
    }
   },
   "outputs": [
    {
     "name": "stdout",
     "output_type": "stream",
     "text": [
      "{\n",
      "   \"dataset\": {\n",
      "      \"collapse\": null,\n",
      "      \"column_index\": null,\n",
      "      \"column_names\": [\n",
      "         \"Date\",\n",
      "         \"Open\",\n",
      "         \"High\",\n",
      "         \"Low\",\n",
      "         \"Close\",\n",
      "         \"Change\",\n",
      "         \"Traded Volume\",\n",
      "         \"Turnover\",\n",
      "         \"Last Price of the Day\",\n",
      "         \"Daily Traded Units\",\n",
      "         \"Daily Turnover\"\n",
      "      ],\n",
      "      \"data\": [\n",
      "         [\n",
      "            \"2017-12-29\",\n",
      "            51.76,\n",
      "            51.94,\n",
      "            51.45,\n",
      "            51.76,\n",
      "            null,\n",
      "            34640.0,\n",
      "            1792304.0,\n",
      "            null,\n",
      "            null,\n",
      "            null\n",
      "         ],\n",
      "         [\n",
      "            \"2017-12-28\",\n",
      "            51.65,\n",
      "            51.82,\n",
      "            51.43,\n",
      "            51.6,\n",
      "            null,\n",
      "            40660.0,\n",
      "            2099024.0,\n",
      "            null,\n",
      "            null,\n",
      "            null\n",
      "         ],\n",
      "         [\n",
      "            \"2017-12-27\",\n",
      "            51.45,\n",
      "            51.89,\n",
      "            50.76,\n",
      "            51.82,\n",
      "            null,\n",
      "            57452.0,\n",
      "            2957018.0,\n",
      "            null,\n",
      "            null,\n",
      "            null\n",
      "         ],\n",
      "         [\n",
      "            \"2017-12-22\",\n",
      "            51.05,\n",
      "            51.5,\n",
      "            50.92,\n",
      "            51.32,\n",
      "            null,\n",
      "            71165.0,\n",
      "            3641949.0,\n",
      "            null,\n",
      "            null,\n",
      "            null\n",
      "         ],\n",
      "         [\n",
      "            \"2017-12-21\",\n",
      "            51.16,\n",
      "            51.52,\n",
      "            50.9,\n",
      "            51.4,\n",
      "            null,\n",
      "            120649.0,\n",
      "            6179433.0,\n",
      "            null,\n",
      "            null,\n",
      "            null\n",
      "         ],\n",
      "         [\n",
      "            \"2017-12-20\",\n",
      "            51.88,\n",
      "            52.04,\n",
      "            51.2,\n",
      "            51.27,\n",
      "            null,\n",
      "            50587.0,\n",
      "            2610258.0,\n",
      "            null,\n",
      "            null,\n",
      "            null\n",
      "         ],\n",
      "         [\n",
      "            \"2017-12-19\",\n",
      "            52.73,\n",
      "            52.73,\n",
      "            51.07,\n",
      "            51.66,\n",
      "            null,\n",
      "            137313.0,\n",
      "            7102361.0,\n",
      "            null,\n",
      "            null,\n",
      "            null\n",
      "         ],\n",
      "         [\n",
      "            \"2017-12-18\",\n",
      "            52.37,\n",
      "            52.75,\n",
      "            51.61,\n",
      "            52.62,\n",
      "            null,\n",
      "            129733.0,\n",
      "            6770499.0,\n",
      "            null,\n",
      "            null,\n",
      "            null\n",
      "         ],\n",
      "         [\n",
      "            \"2017-12-15\",\n",
      "            52.7,\n",
      "            52.7,\n",
      "            51.64,\n",
      "            52.01,\n",
      "            null,\n",
      "            204080.0,\n",
      "            10596319.0,\n",
      "            null,\n",
      "            null,\n",
      "            null\n",
      "         ],\n",
      "         [\n",
      "            \"2017-12-14\",\n",
      "            53.11,\n",
      "            53.54,\n",
      "            52.15,\n",
      "            52.67,\n",
      "            null,\n",
      "            132981.0,\n",
      "            7016953.0,\n",
      "            null,\n",
      "            null,\n",
      "            null\n",
      "         ],\n",
      "         [\n",
      "            \"2017-12-13\",\n",
      "            52.64,\n",
      "            53.35,\n",
      "            52.48,\n",
      "            53.09,\n",
      "            null,\n",
      "            128434.0,\n",
      "            6801159.0,\n",
      "            null,\n",
      "            null,\n",
      "            null\n",
      "         ],\n",
      "         [\n",
      "            \"2017-12-12\",\n",
      "            52.29,\n",
      "            53.1,\n",
      "            51.82,\n",
      "            52.43,\n",
      "            null,\n",
      "            87911.0,\n",
      "            4615924.0,\n",
      "            null,\n",
      "            null,\n",
      "            null\n",
      "         ],\n",
      "         [\n",
      "            \"2017-12-11\",\n",
      "            52.28,\n",
      "            52.45,\n",
      "            51.26,\n",
      "            52.14,\n",
      "            null,\n",
      "            71817.0,\n",
      "            3724193.0,\n",
      "            null,\n",
      "            null,\n",
      "            null\n",
      "         ],\n",
      "         [\n",
      "            \"2017-12-08\",\n",
      "            51.5,\n",
      "            52.83,\n",
      "            51.28,\n",
      "            52.12,\n",
      "            null,\n",
      "            109157.0,\n",
      "            5690648.0,\n",
      "            null,\n",
      "            null,\n",
      "            null\n",
      "         ],\n",
      "         [\n",
      "            \"2017-12-07\",\n",
      "            50.89,\n",
      "            51.47,\n",
      "            50.81,\n",
      "            51.47,\n",
      "            null,\n",
      "            48123.0,\n",
      "            2463848.0,\n",
      "            null,\n",
      "            null,\n",
      "            null\n",
      "         ],\n",
      "         [\n",
      "            \"2017-12-06\",\n",
      "            50.8,\n",
      "            51.11,\n",
      "            50.39,\n",
      "            50.89,\n",
      "            null,\n",
      "            88730.0,\n",
      "            4504075.0,\n",
      "            null,\n",
      "            null,\n",
      "            null\n",
      "         ],\n",
      "         [\n",
      "            \"2017-12-05\",\n",
      "            51.21,\n",
      "            51.38,\n",
      "            50.4,\n",
      "            51.25,\n",
      "            null,\n",
      "            83023.0,\n",
      "            4231971.0,\n",
      "            null,\n",
      "            null,\n",
      "            null\n",
      "         ],\n",
      "         [\n",
      "            \"2017-12-04\",\n",
      "            49.5,\n",
      "            51.23,\n",
      "            49.5,\n",
      "            51.14,\n",
      "            null,\n",
      "            94385.0,\n",
      "            4800027.0,\n",
      "            null,\n",
      "            null,\n",
      "            null\n",
      "         ],\n",
      "         [\n",
      "            \"2017-12-01\",\n",
      "            49.52,\n",
      "            50.49,\n",
      "            49.17,\n",
      "            49.86,\n",
      "            null,\n",
      "            101733.0,\n",
      "            5065932.0,\n",
      "            null,\n",
      "            null,\n",
      "            null\n",
      "         ],\n",
      "         [\n",
      "            \"2017-11-30\",\n",
      "            48.64,\n",
      "            49.84,\n",
      "            48.28,\n",
      "            49.7,\n",
      "            null,\n",
      "            123019.0,\n",
      "            6085171.0,\n",
      "            null,\n",
      "            null,\n",
      "            null\n",
      "         ],\n",
      "         [\n",
      "            \"2017-11-29\",\n",
      "            49.64,\n",
      "            49.64,\n",
      "            48.7,\n",
      "            48.75,\n",
      "            null,\n",
      "            67342.0,\n",
      "            3292223.0,\n",
      "            null,\n",
      "            null,\n",
      "            null\n",
      "         ],\n",
      "         [\n",
      "            \"2017-11-28\",\n",
      "            49.09,\n",
      "            49.89,\n",
      "            49.03,\n",
      "            49.25,\n",
      "            null,\n",
      "            42669.0,\n",
      "            2107358.0,\n",
      "            null,\n",
      "            null,\n",
      "            null\n",
      "         ],\n",
      "         [\n",
      "            \"2017-11-27\",\n",
      "            49.13,\n",
      "            49.73,\n",
      "            48.96,\n",
      "            49.2,\n",
      "            null,\n",
      "            102180.0,\n",
      "            5055762.0,\n",
      "            null,\n",
      "            null,\n",
      "            null\n",
      "         ],\n",
      "         [\n",
      "            \"2017-11-24\",\n",
      "            49.11,\n",
      "            49.41,\n",
      "            48.87,\n",
      "            49.11,\n",
      "            null,\n",
      "            50350.0,\n",
      "            2472842.0,\n",
      "            null,\n",
      "            null,\n",
      "            null\n",
      "         ],\n",
      "         [\n",
      "            \"2017-11-23\",\n",
      "            48.8,\n",
      "            49.46,\n",
      "            48.45,\n",
      "            49.2,\n",
      "            null,\n",
      "            38834.0,\n",
      "            1909352.0,\n",
      "            null,\n",
      "            null,\n",
      "            null\n",
      "         ],\n",
      "         [\n",
      "            \"2017-11-22\",\n",
      "            48.4,\n",
      "            49.61,\n",
      "            48.39,\n",
      "            48.8,\n",
      "            null,\n",
      "            91142.0,\n",
      "            4478093.0,\n",
      "            null,\n",
      "            null,\n",
      "            null\n",
      "         ],\n",
      "         [\n",
      "            \"2017-11-21\",\n",
      "            47.25,\n",
      "            48.59,\n",
      "            46.78,\n",
      "            48.39,\n",
      "            null,\n",
      "            78502.0,\n",
      "            3782098.0,\n",
      "            null,\n",
      "            null,\n",
      "            null\n",
      "         ],\n",
      "         [\n",
      "            \"2017-11-20\",\n",
      "            46.57,\n",
      "            47.38,\n",
      "            46.54,\n",
      "            47.04,\n",
      "            null,\n",
      "            97252.0,\n",
      "            4563515.0,\n",
      "            null,\n",
      "            null,\n",
      "            null\n",
      "         ],\n",
      "         [\n",
      "            \"2017-11-17\",\n",
      "            47.03,\n",
      "            47.15,\n",
      "            46.8,\n",
      "            46.84,\n",
      "            null,\n",
      "            54107.0,\n",
      "            2540820.0,\n",
      "            null,\n",
      "            null,\n",
      "            null\n",
      "         ],\n",
      "         [\n",
      "            \"2017-11-16\",\n",
      "            47.09,\n",
      "            47.23,\n",
      "            46.55,\n",
      "            47.03,\n",
      "            null,\n",
      "            89373.0,\n",
      "            4195732.0,\n",
      "            null,\n",
      "            null,\n",
      "            null\n",
      "         ],\n",
      "         [\n",
      "            \"2017-11-15\",\n",
      "            47.98,\n",
      "            48.01,\n",
      "            46.75,\n",
      "            47.05,\n",
      "            null,\n",
      "            67593.0,\n",
      "            3188321.0,\n",
      "            null,\n",
      "            null,\n",
      "            null\n",
      "         ],\n",
      "         [\n",
      "            \"2017-11-14\",\n",
      "            48.4,\n",
      "            48.9,\n",
      "            47.84,\n",
      "            48.0,\n",
      "            null,\n",
      "            67672.0,\n",
      "            3259979.0,\n",
      "            null,\n",
      "            null,\n",
      "            null\n",
      "         ],\n",
      "         [\n",
      "            \"2017-11-13\",\n",
      "            48.38,\n",
      "            48.61,\n",
      "            47.76,\n",
      "            48.34,\n",
      "            null,\n",
      "            76286.0,\n",
      "            3681337.0,\n",
      "            null,\n",
      "            null,\n",
      "            null\n",
      "         ],\n",
      "         [\n",
      "            \"2017-11-10\",\n",
      "            47.3,\n",
      "            48.89,\n",
      "            47.16,\n",
      "            48.34,\n",
      "            null,\n",
      "            90245.0,\n",
      "            4361552.0,\n",
      "            null,\n",
      "            null,\n",
      "            null\n",
      "         ],\n",
      "         [\n",
      "            \"2017-11-09\",\n",
      "            47.65,\n",
      "            48.06,\n",
      "            47.09,\n",
      "            47.21,\n",
      "            null,\n",
      "            120268.0,\n",
      "            5712034.0,\n",
      "            null,\n",
      "            null,\n",
      "            null\n",
      "         ],\n",
      "         [\n",
      "            \"2017-11-08\",\n",
      "            46.42,\n",
      "            47.72,\n",
      "            46.42,\n",
      "            47.47,\n",
      "            null,\n",
      "            94195.0,\n",
      "            4463935.0,\n",
      "            null,\n",
      "            null,\n",
      "            null\n",
      "         ],\n",
      "         [\n",
      "            \"2017-11-07\",\n",
      "            46.16,\n",
      "            46.33,\n",
      "            45.84,\n",
      "            46.26,\n",
      "            null,\n",
      "            48152.0,\n",
      "            2224221.0,\n",
      "            null,\n",
      "            null,\n",
      "            null\n",
      "         ],\n",
      "         [\n",
      "            \"2017-11-06\",\n",
      "            45.81,\n",
      "            46.09,\n",
      "            45.76,\n",
      "            45.99,\n",
      "            null,\n",
      "            60716.0,\n",
      "            2789220.0,\n",
      "            null,\n",
      "            null,\n",
      "            null\n",
      "         ],\n",
      "         [\n",
      "            \"2017-11-03\",\n",
      "            45.0,\n",
      "            46.04,\n",
      "            44.83,\n",
      "            45.97,\n",
      "            null,\n",
      "            56911.0,\n",
      "            2603498.0,\n",
      "            null,\n",
      "            null,\n",
      "            null\n",
      "         ],\n",
      "         [\n",
      "            \"2017-11-02\",\n",
      "            45.88,\n",
      "            46.06,\n",
      "            45.18,\n",
      "            45.27,\n",
      "            null,\n",
      "            37958.0,\n",
      "            1724840.0,\n",
      "            null,\n",
      "            null,\n",
      "            null\n",
      "         ],\n",
      "         [\n",
      "            \"2017-11-01\",\n",
      "            46.2"
     ]
    },
    {
     "data": {
      "text/html": [
       "<b>limit_output extension: Maximum message size of 10000 exceeded with 62117 characters</b>"
      ]
     },
     "metadata": {},
     "output_type": "display_data"
    }
   ],
   "source": [
    "p = {'start_date':'2017-01-01','end_date':'2017-12-31'}\n",
    "source = requests.get(\"https://data.nasdaq.com/api/v3/datasets/FSE/AFX_X.json?api_key=9_fVkE8xTZRMwTqYLB9A\",\n",
    "                 params=p)\n",
    "\n",
    "# converts the class str in var r and converts it python object\n",
    "data = json.loads(source.text)\n",
    "\n",
    "print(json.dumps(data, indent=3, sort_keys=True))\n"
   ]
  },
  {
   "cell_type": "markdown",
   "metadata": {},
   "source": [
    "2. Convert the returned JSON object into a Python dictionary."
   ]
  },
  {
   "cell_type": "code",
   "execution_count": 12,
   "metadata": {
    "ExecuteTime": {
     "end_time": "2021-12-26T08:07:07.695979Z",
     "start_time": "2021-12-26T08:07:07.691164Z"
    }
   },
   "outputs": [
    {
     "name": "stdout",
     "output_type": "stream",
     "text": [
      "<class 'dict'>\n",
      "id\n",
      "dataset_code\n",
      "database_code\n",
      "name\n",
      "description\n",
      "refreshed_at\n",
      "newest_available_date\n",
      "oldest_available_date\n",
      "column_names\n",
      "frequency\n",
      "type\n",
      "premium\n",
      "limit\n",
      "transform\n",
      "column_index\n",
      "start_date\n",
      "end_date\n",
      "data\n",
      "collapse\n",
      "order\n",
      "database_id\n"
     ]
    }
   ],
   "source": [
    "print(type(data))\n",
    "\n",
    "for item in data['dataset']:\n",
    "    print(item)"
   ]
  },
  {
   "cell_type": "markdown",
   "metadata": {},
   "source": [
    "3. Calculate what the highest and lowest opening prices were for the stock in this period."
   ]
  },
  {
   "cell_type": "code",
   "execution_count": 20,
   "metadata": {
    "ExecuteTime": {
     "end_time": "2021-12-26T08:13:54.828655Z",
     "start_time": "2021-12-26T08:13:54.824680Z"
    }
   },
   "outputs": [
    {
     "name": "stdout",
     "output_type": "stream",
     "text": [
      "Date\n",
      "Open\n",
      "High\n",
      "Low\n",
      "Close\n",
      "Change\n",
      "Traded Volume\n",
      "Turnover\n",
      "Last Price of the Day\n",
      "Daily Traded Units\n",
      "Daily Turnover\n"
     ]
    }
   ],
   "source": [
    "for item in data['dataset']['column_names']:\n",
    "    print(item)"
   ]
  },
  {
   "cell_type": "code",
   "execution_count": 18,
   "metadata": {
    "ExecuteTime": {
     "end_time": "2021-12-26T08:13:26.611801Z",
     "start_time": "2021-12-26T08:13:26.602447Z"
    }
   },
   "outputs": [
    {
     "ename": "TypeError",
     "evalue": "string indices must be integers",
     "output_type": "error",
     "traceback": [
      "\u001b[0;31m---------------------------------------------------------------------------\u001b[0m",
      "\u001b[0;31mTypeError\u001b[0m                                 Traceback (most recent call last)",
      "\u001b[0;32m<ipython-input-18-42542d9861d4>\u001b[0m in \u001b[0;36m<module>\u001b[0;34m\u001b[0m\n\u001b[1;32m      1\u001b[0m \u001b[0;32mfor\u001b[0m \u001b[0mitem\u001b[0m \u001b[0;32min\u001b[0m \u001b[0mdata\u001b[0m\u001b[0;34m[\u001b[0m\u001b[0;34m'dataset'\u001b[0m\u001b[0;34m]\u001b[0m\u001b[0;34m[\u001b[0m\u001b[0;34m'column_names'\u001b[0m\u001b[0;34m]\u001b[0m\u001b[0;34m:\u001b[0m\u001b[0;34m\u001b[0m\u001b[0;34m\u001b[0m\u001b[0m\n\u001b[0;32m----> 2\u001b[0;31m     \u001b[0mhigh\u001b[0m \u001b[0;34m=\u001b[0m \u001b[0mitem\u001b[0m\u001b[0;34m[\u001b[0m\u001b[0;34m'column_names'\u001b[0m\u001b[0;34m]\u001b[0m\u001b[0;34m[\u001b[0m\u001b[0;36m2\u001b[0m\u001b[0;34m]\u001b[0m\u001b[0;34m\u001b[0m\u001b[0;34m\u001b[0m\u001b[0m\n\u001b[0m\u001b[1;32m      3\u001b[0m     \u001b[0mlow\u001b[0m \u001b[0;34m=\u001b[0m \u001b[0mitem\u001b[0m\u001b[0;34m[\u001b[0m\u001b[0;34m'column_names'\u001b[0m\u001b[0;34m]\u001b[0m\u001b[0;34m[\u001b[0m\u001b[0;36m3\u001b[0m\u001b[0;34m]\u001b[0m\u001b[0;34m\u001b[0m\u001b[0;34m\u001b[0m\u001b[0m\n\u001b[1;32m      4\u001b[0m     \u001b[0mprint\u001b[0m\u001b[0;34m(\u001b[0m\u001b[0mhigh\u001b[0m\u001b[0;34m,\u001b[0m\u001b[0mlow\u001b[0m\u001b[0;34m)\u001b[0m\u001b[0;34m\u001b[0m\u001b[0;34m\u001b[0m\u001b[0m\n",
      "\u001b[0;31mTypeError\u001b[0m: string indices must be integers"
     ]
    }
   ],
   "source": [
    "for item in data['dataset']['column_names']:\n",
    "    high = item['column_names'][2]\n",
    "    low = item['column_names'][3]\n",
    "    print(high,low)"
   ]
  },
  {
   "cell_type": "markdown",
   "metadata": {},
   "source": [
    "4. What was the largest change in any one day (based on High and Low price)?"
   ]
  },
  {
   "cell_type": "markdown",
   "metadata": {},
   "source": [
    "5. What was the largest change between any two days (based on Closing Price)?\n"
   ]
  },
  {
   "cell_type": "code",
   "execution_count": null,
   "metadata": {},
   "outputs": [],
   "source": []
  },
  {
   "cell_type": "markdown",
   "metadata": {
    "ExecuteTime": {
     "end_time": "2021-12-25T09:03:47.825361Z",
     "start_time": "2021-12-25T09:03:47.821635Z"
    }
   },
   "source": [
    "6. What was the average daily trading volume during this year"
   ]
  },
  {
   "cell_type": "code",
   "execution_count": null,
   "metadata": {},
   "outputs": [],
   "source": []
  },
  {
   "cell_type": "code",
   "execution_count": null,
   "metadata": {},
   "outputs": [],
   "source": []
  },
  {
   "cell_type": "markdown",
   "metadata": {},
   "source": [
    "7. (Optional) What was the median trading volume during this year. (Note: you may need to implement your own function for calculating the median.)"
   ]
  },
  {
   "cell_type": "code",
   "execution_count": null,
   "metadata": {},
   "outputs": [],
   "source": []
  },
  {
   "cell_type": "code",
   "execution_count": null,
   "metadata": {},
   "outputs": [],
   "source": [
    "\n",
    "\n"
   ]
  },
  {
   "cell_type": "code",
   "execution_count": null,
   "metadata": {},
   "outputs": [],
   "source": []
  },
  {
   "cell_type": "code",
   "execution_count": null,
   "metadata": {},
   "outputs": [],
   "source": []
  },
  {
   "cell_type": "code",
   "execution_count": null,
   "metadata": {},
   "outputs": [],
   "source": []
  }
 ],
 "metadata": {
  "hide_input": false,
  "interpreter": {
   "hash": "7635eb1b9d0fe97add78a7368b6b431c09bb8ad5c42e437d64abdd99821c31ae"
  },
  "kernelspec": {
   "display_name": "Python 3",
   "language": "python",
   "name": "python3"
  },
  "language_info": {
   "codemirror_mode": {
    "name": "ipython",
    "version": 3
   },
   "file_extension": ".py",
   "mimetype": "text/x-python",
   "name": "python",
   "nbconvert_exporter": "python",
   "pygments_lexer": "ipython3",
   "version": "3.8.5"
  },
  "latex_envs": {
   "LaTeX_envs_menu_present": true,
   "autoclose": false,
   "autocomplete": true,
   "bibliofile": "biblio.bib",
   "cite_by": "apalike",
   "current_citInitial": 1,
   "eqLabelWithNumbers": true,
   "eqNumInitial": 1,
   "hotkeys": {
    "equation": "Ctrl-E",
    "itemize": "Ctrl-I"
   },
   "labels_anchors": false,
   "latex_user_defs": false,
   "report_style_numbering": false,
   "user_envs_cfg": false
  },
  "toc": {
   "base_numbering": 1,
   "nav_menu": {},
   "number_sections": true,
   "sideBar": true,
   "skip_h1_title": false,
   "title_cell": "Table of Contents",
   "title_sidebar": "Contents",
   "toc_cell": false,
   "toc_position": {},
   "toc_section_display": true,
   "toc_window_display": false
  },
  "varInspector": {
   "cols": {
    "lenName": 16,
    "lenType": 16,
    "lenVar": 40
   },
   "kernels_config": {
    "python": {
     "delete_cmd_postfix": "",
     "delete_cmd_prefix": "del ",
     "library": "var_list.py",
     "varRefreshCmd": "print(var_dic_list())"
    },
    "r": {
     "delete_cmd_postfix": ") ",
     "delete_cmd_prefix": "rm(",
     "library": "var_list.r",
     "varRefreshCmd": "cat(var_dic_list()) "
    }
   },
   "types_to_exclude": [
    "module",
    "function",
    "builtin_function_or_method",
    "instance",
    "_Feature"
   ],
   "window_display": false
  }
 },
 "nbformat": 4,
 "nbformat_minor": 4
}
