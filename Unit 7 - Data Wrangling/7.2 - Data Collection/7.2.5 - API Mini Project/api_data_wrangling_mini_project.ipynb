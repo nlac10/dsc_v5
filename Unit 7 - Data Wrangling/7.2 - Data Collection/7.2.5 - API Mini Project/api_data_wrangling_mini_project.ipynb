{
 "cells": [
  {
   "cell_type": "markdown",
   "metadata": {},
   "source": [
    "This exercise will require you to pull some data from https://data.nasdaq.com/ (formerly Quandl API)."
   ]
  },
  {
   "cell_type": "code",
   "execution_count": null,
   "metadata": {},
   "outputs": [],
   "source": []
  },
  {
   "cell_type": "markdown",
   "metadata": {},
   "source": [
    "As a first step, you will need to register a free account on the https://data.nasdaq.com/ website."
   ]
  },
  {
   "cell_type": "markdown",
   "metadata": {},
   "source": [
    "After you register, you will be provided with a unique API key, that you should store:\n",
    "\n",
    "*Note*: Use a `.env` file and put your key in there and `python-dotenv` to access it in this notebook. \n",
    "\n",
    "The code below uses a key that was used when generating this project but has since been deleted. Never submit your keys to source control. There is a `.env-example` file in this repository to illusrtate what you need. Copy that to a file called `.env` and use your own api key in that `.env` file. Make sure you also have a `.gitignore` file with a line for `.env` added to it. \n",
    "\n",
    "The standard Python gitignore is [here](https://github.com/github/gitignore/blob/master/Python.gitignore) you can just copy that. "
   ]
  },
  {
   "cell_type": "code",
   "execution_count": 1,
   "metadata": {
    "ExecuteTime": {
     "end_time": "2021-12-29T02:23:41.265617Z",
     "start_time": "2021-12-29T02:23:41.250672Z"
    }
   },
   "outputs": [
    {
     "name": "stdout",
     "output_type": "stream",
     "text": [
      "9_fVkE8xTZRMwTqYLB9A\n"
     ]
    }
   ],
   "source": [
    "# get api key from your .env file\n",
    "import os\n",
    "from dotenv import load_dotenv\n",
    "\n",
    "load_dotenv()\n",
    "API_KEY = os.getenv('NASDAQ_API_KEY')\n",
    "\n",
    "\n",
    "print(API_KEY)"
   ]
  },
  {
   "cell_type": "markdown",
   "metadata": {},
   "source": [
    "Nasdaq Data has a large number of data sources, but, unfortunately, most of them require a Premium subscription. Still, there are also a good number of free datasets."
   ]
  },
  {
   "cell_type": "markdown",
   "metadata": {},
   "source": [
    "For this mini project, we will focus on equities data from the Frankfurt Stock Exhange (FSE), which is available for free. We'll try and analyze the stock prices of a company called Carl Zeiss Meditec, which manufactures tools for eye examinations, as well as medical lasers for laser eye surgery: https://www.zeiss.com/meditec/int/home.html. The company is listed under the stock ticker AFX_X."
   ]
  },
  {
   "cell_type": "markdown",
   "metadata": {},
   "source": [
    "\n",
    "You can find the detailed Nasdaq Data API instructions here: https://docs.data.nasdaq.com/docs/in-depth-usage"
   ]
  },
  {
   "cell_type": "markdown",
   "metadata": {},
   "source": [
    "While there is a dedicated Python package for connecting to the Nasdaq API, we would prefer that you use the *requests* package, which can be easily downloaded using *pip* or *conda*. You can find the documentation for the package here: http://docs.python-requests.org/en/master/ "
   ]
  },
  {
   "cell_type": "code",
   "execution_count": 2,
   "metadata": {
    "ExecuteTime": {
     "end_time": "2021-12-29T02:23:42.681925Z",
     "start_time": "2021-12-29T02:23:41.437266Z"
    }
   },
   "outputs": [
    {
     "name": "stdout",
     "output_type": "stream",
     "text": [
      "Requirement already satisfied: requests in /usr/local/lib/python3.8/site-packages (2.24.0)\n",
      "Requirement already satisfied: idna<3,>=2.5 in /usr/local/lib/python3.8/site-packages (from requests) (2.10)\n",
      "Requirement already satisfied: urllib3!=1.25.0,!=1.25.1,<1.26,>=1.21.1 in /usr/local/lib/python3.8/site-packages (from requests) (1.25.10)\n",
      "Requirement already satisfied: chardet<4,>=3.0.2 in /usr/local/lib/python3.8/site-packages (from requests) (3.0.4)\n",
      "Requirement already satisfied: certifi>=2017.4.17 in /usr/local/lib/python3.8/site-packages (from requests) (2020.6.20)\n",
      "Note: you may need to restart the kernel to use updated packages.\n"
     ]
    }
   ],
   "source": [
    "%pip install requests"
   ]
  },
  {
   "cell_type": "code",
   "execution_count": null,
   "metadata": {},
   "outputs": [],
   "source": []
  },
  {
   "cell_type": "markdown",
   "metadata": {},
   "source": [
    "Finally, apart from the *requests* package, you are encouraged to not use any third party Python packages, such as *pandas*, and instead focus on what's available in the Python Standard Library (the *collections* module might come in handy: https://pymotw.com/3/collections/).\n",
    "Also, since you won't have access to DataFrames, you are encouraged to us Python's native data structures - preferably dictionaries, though some questions can also be answered using lists.\n",
    "You can read more on these data structures here: https://docs.python.org/3/tutorial/datastructures.html"
   ]
  },
  {
   "cell_type": "markdown",
   "metadata": {},
   "source": [
    "Keep in mind that the JSON responses you will be getting from the API map almost one-to-one to Python's dictionaries. Unfortunately, they can be very nested, so make sure you read up on indexing dictionaries in the documentation provided above."
   ]
  },
  {
   "cell_type": "code",
   "execution_count": 3,
   "metadata": {
    "ExecuteTime": {
     "end_time": "2021-12-29T02:23:42.776240Z",
     "start_time": "2021-12-29T02:23:42.684823Z"
    }
   },
   "outputs": [],
   "source": [
    "# First, import the relevant modules\n",
    "import requests, collections, json\n",
    "from pprint import pprint as pp"
   ]
  },
  {
   "cell_type": "markdown",
   "metadata": {},
   "source": [
    "Note: API's can change a bit with each version, for this exercise it is reccomended to use the nasdaq api at `https://data.nasdaq.com/api/v3/`. This is the same api as what used to be quandl so `https://www.quandl.com/api/v3/` should work too.\n",
    "\n",
    "Hint: We are looking for the `AFX_X` data on the `datasets/FSE/` dataset."
   ]
  },
  {
   "cell_type": "code",
   "execution_count": 4,
   "metadata": {
    "ExecuteTime": {
     "end_time": "2021-12-29T02:23:43.161355Z",
     "start_time": "2021-12-29T02:23:42.779057Z"
    }
   },
   "outputs": [
    {
     "name": "stdout",
     "output_type": "stream",
     "text": [
      "<class 'str'>\n"
     ]
    }
   ],
   "source": [
    "# Now, call the Nasdaq API and pull out a small sample of the data (only one day) to get a glimpse\n",
    "# into the JSON structure that will be returned\n",
    "\n",
    "# put your params\n",
    "my_params = {'limit': '1'}\n",
    "\n",
    "r = requests.get(\"https://data.nasdaq.com/api/v3/datasets/FSE/AFX_X.json?api_key=9_fVkE8xTZRMwTqYLB9A\",params=my_params)\n",
    "\n",
    "print(type(r.text))"
   ]
  },
  {
   "cell_type": "code",
   "execution_count": 5,
   "metadata": {
    "ExecuteTime": {
     "end_time": "2021-12-29T02:23:43.169332Z",
     "start_time": "2021-12-29T02:23:43.164422Z"
    }
   },
   "outputs": [
    {
     "name": "stdout",
     "output_type": "stream",
     "text": [
      "<class 'dict'>\n",
      "<class 'str'>\n",
      "{\n",
      "    \"dataset\": {\n",
      "        \"collapse\": null,\n",
      "        \"column_index\": null,\n",
      "        \"column_names\": [\n",
      "            \"Date\",\n",
      "            \"Open\",\n",
      "            \"High\",\n",
      "            \"Low\",\n",
      "            \"Close\",\n",
      "            \"Change\",\n",
      "            \"Traded Volume\",\n",
      "            \"Turnover\",\n",
      "            \"Last Price of the Day\",\n",
      "            \"Daily Traded Units\",\n",
      "            \"Daily Turnover\"\n",
      "        ],\n",
      "        \"data\": [\n",
      "            [\n",
      "                \"2020-12-01\",\n",
      "                112.2,\n",
      "                112.2,\n",
      "                111.5,\n",
      "                112.0,\n",
      "                null,\n",
      "                51.0,\n",
      "                5703.0,\n",
      "                null,\n",
      "                null,\n",
      "                null\n",
      "            ]\n",
      "        ],\n",
      "        \"database_code\": \"FSE\",\n",
      "        \"database_id\": 6129,\n",
      "        \"dataset_code\": \"AFX_X\",\n",
      "        \"description\": \"Stock Prices for Carl Zeiss Meditec (2020-11-02) from the Frankfurt Stock Exchange.<br><br>Trading System: Xetra<br><br>ISIN: DE0005313704\",\n",
      "        \"end_date\": \"2020-12-01\",\n",
      "        \"frequency\": \"daily\",\n",
      "        \"id\": 10095370,\n",
      "        \"limit\": 1,\n",
      "        \"name\": \"Carl Zeiss Meditec (AFX_X)\",\n",
      "        \"newest_available_date\": \"2020-12-01\",\n",
      "        \"oldest_available_date\": \"2000-06-07\",\n",
      "        \"order\": null,\n",
      "        \"premium\": false,\n",
      "        \"refreshed_at\": \"2020-12-01T14:48:09.907Z\",\n",
      "        \"start_date\": \"2000-06-07\",\n",
      "        \"transform\": null,\n",
      "        \"type\": \"Time Series\"\n",
      "    }\n",
      "}\n"
     ]
    }
   ],
   "source": [
    "# converts the class str in var r and converts it to class dic \n",
    "data = json.loads(r.text)\n",
    "print(type(data))\n",
    "\n",
    "# formats betters, but turns dic into string\n",
    "data = json.dumps(data, indent=4, sort_keys=True)\n",
    "print(type(data))\n",
    "\n",
    "print(data)"
   ]
  },
  {
   "cell_type": "code",
   "execution_count": 6,
   "metadata": {
    "ExecuteTime": {
     "end_time": "2021-12-29T02:23:43.174656Z",
     "start_time": "2021-12-29T02:23:43.171610Z"
    }
   },
   "outputs": [],
   "source": [
    "# Inspect the JSON structure of the object you created, and take note of how nested it is,\n",
    "# as well as the overall structure"
   ]
  },
  {
   "cell_type": "markdown",
   "metadata": {},
   "source": [
    "1. Collect data from the Franfurt Stock Exchange, for the ticker AFX_X, for the whole year 2017 (keep in mind that the date format is YYYY-MM-DD)."
   ]
  },
  {
   "cell_type": "code",
   "execution_count": 7,
   "metadata": {
    "ExecuteTime": {
     "end_time": "2021-12-29T02:23:43.579943Z",
     "start_time": "2021-12-29T02:23:43.178081Z"
    }
   },
   "outputs": [
    {
     "name": "stdout",
     "output_type": "stream",
     "text": [
      "{\n",
      "   \"dataset\": {\n",
      "      \"collapse\": null,\n",
      "      \"column_index\": null,\n",
      "      \"column_names\": [\n",
      "         \"Date\",\n",
      "         \"Open\",\n",
      "         \"High\",\n",
      "         \"Low\",\n",
      "         \"Close\",\n",
      "         \"Change\",\n",
      "         \"Traded Volume\",\n",
      "         \"Turnover\",\n",
      "         \"Last Price of the Day\",\n",
      "         \"Daily Traded Units\",\n",
      "         \"Daily Turnover\"\n",
      "      ],\n",
      "      \"data\": [\n",
      "         [\n",
      "            \"2017-12-29\",\n",
      "            51.76,\n",
      "            51.94,\n",
      "            51.45,\n",
      "            51.76,\n",
      "            null,\n",
      "            34640.0,\n",
      "            1792304.0,\n",
      "            null,\n",
      "            null,\n",
      "            null\n",
      "         ],\n",
      "         [\n",
      "            \"2017-12-28\",\n",
      "            51.65,\n",
      "            51.82,\n",
      "            51.43,\n",
      "            51.6,\n",
      "            null,\n",
      "            40660.0,\n",
      "            2099024.0,\n",
      "            null,\n",
      "            null,\n",
      "            null\n",
      "         ],\n",
      "         [\n",
      "            \"2017-12-27\",\n",
      "            51.45,\n",
      "            51.89,\n",
      "            50.76,\n",
      "            51.82,\n",
      "            null,\n",
      "            57452.0,\n",
      "            2957018.0,\n",
      "            null,\n",
      "            null,\n",
      "            null\n",
      "         ],\n",
      "         [\n",
      "            \"2017-12-22\",\n",
      "            51.05,\n",
      "            51.5,\n",
      "            50.92,\n",
      "            51.32,\n",
      "            null,\n",
      "            71165.0,\n",
      "            3641949.0,\n",
      "            null,\n",
      "            null,\n",
      "            null\n",
      "         ],\n",
      "         [\n",
      "            \"2017-12-21\",\n",
      "            51.16,\n",
      "            51.52,\n",
      "            50.9,\n",
      "            51.4,\n",
      "            null,\n",
      "            120649.0,\n",
      "            6179433.0,\n",
      "            null,\n",
      "            null,\n",
      "            null\n",
      "         ],\n",
      "         [\n",
      "            \"2017-12-20\",\n",
      "            51.88,\n",
      "            52.04,\n",
      "            51.2,\n",
      "            51.27,\n",
      "            null,\n",
      "            50587.0,\n",
      "            2610258.0,\n",
      "            null,\n",
      "            null,\n",
      "            null\n",
      "         ],\n",
      "         [\n",
      "            \"2017-12-19\",\n",
      "            52.73,\n",
      "            52.73,\n",
      "            51.07,\n",
      "            51.66,\n",
      "            null,\n",
      "            137313.0,\n",
      "            7102361.0,\n",
      "            null,\n",
      "            null,\n",
      "            null\n",
      "         ],\n",
      "         [\n",
      "            \"2017-12-18\",\n",
      "            52.37,\n",
      "            52.75,\n",
      "            51.61,\n",
      "            52.62,\n",
      "            null,\n",
      "            129733.0,\n",
      "            6770499.0,\n",
      "            null,\n",
      "            null,\n",
      "            null\n",
      "         ],\n",
      "         [\n",
      "            \"2017-12-15\",\n",
      "            52.7,\n",
      "            52.7,\n",
      "            51.64,\n",
      "            52.01,\n",
      "            null,\n",
      "            204080.0,\n",
      "            10596319.0,\n",
      "            null,\n",
      "            null,\n",
      "            null\n",
      "         ],\n",
      "         [\n",
      "            \"2017-12-14\",\n",
      "            53.11,\n",
      "            53.54,\n",
      "            52.15,\n",
      "            52.67,\n",
      "            null,\n",
      "            132981.0,\n",
      "            7016953.0,\n",
      "            null,\n",
      "            null,\n",
      "            null\n",
      "         ],\n",
      "         [\n",
      "            \"2017-12-13\",\n",
      "            52.64,\n",
      "            53.35,\n",
      "            52.48,\n",
      "            53.09,\n",
      "            null,\n",
      "            128434.0,\n",
      "            6801159.0,\n",
      "            null,\n",
      "            null,\n",
      "            null\n",
      "         ],\n",
      "         [\n",
      "            \"2017-12-12\",\n",
      "            52.29,\n",
      "            53.1,\n",
      "            51.82,\n",
      "            52.43,\n",
      "            null,\n",
      "            87911.0,\n",
      "            4615924.0,\n",
      "            null,\n",
      "            null,\n",
      "            null\n",
      "         ],\n",
      "         [\n",
      "            \"2017-12-11\",\n",
      "            52.28,\n",
      "            52.45,\n",
      "            51.26,\n",
      "            52.14,\n",
      "            null,\n",
      "            71817.0,\n",
      "            3724193.0,\n",
      "            null,\n",
      "            null,\n",
      "            null\n",
      "         ],\n",
      "         [\n",
      "            \"2017-12-08\",\n",
      "            51.5,\n",
      "            52.83,\n",
      "            51.28,\n",
      "            52.12,\n",
      "            null,\n",
      "            109157.0,\n",
      "            5690648.0,\n",
      "            null,\n",
      "            null,\n",
      "            null\n",
      "         ],\n",
      "         [\n",
      "            \"2017-12-07\",\n",
      "            50.89,\n",
      "            51.47,\n",
      "            50.81,\n",
      "            51.47,\n",
      "            null,\n",
      "            48123.0,\n",
      "            2463848.0,\n",
      "            null,\n",
      "            null,\n",
      "            null\n",
      "         ],\n",
      "         [\n",
      "            \"2017-12-06\",\n",
      "            50.8,\n",
      "            51.11,\n",
      "            50.39,\n",
      "            50.89,\n",
      "            null,\n",
      "            88730.0,\n",
      "            4504075.0,\n",
      "            null,\n",
      "            null,\n",
      "            null\n",
      "         ],\n",
      "         [\n",
      "            \"2017-12-05\",\n",
      "            51.21,\n",
      "            51.38,\n",
      "            50.4,\n",
      "            51.25,\n",
      "            null,\n",
      "            83023.0,\n",
      "            4231971.0,\n",
      "            null,\n",
      "            null,\n",
      "            null\n",
      "         ],\n",
      "         [\n",
      "            \"2017-12-04\",\n",
      "            49.5,\n",
      "            51.23,\n",
      "            49.5,\n",
      "            51.14,\n",
      "            null,\n",
      "            94385.0,\n",
      "            4800027.0,\n",
      "            null,\n",
      "            null,\n",
      "            null\n",
      "         ],\n",
      "         [\n",
      "            \"2017-12-01\",\n",
      "            49.52,\n",
      "            50.49,\n",
      "            49.17,\n",
      "            49.86,\n",
      "            null,\n",
      "            101733.0,\n",
      "            5065932.0,\n",
      "            null,\n",
      "            null,\n",
      "            null\n",
      "         ],\n",
      "         [\n",
      "            \"2017-11-30\",\n",
      "            48.64,\n",
      "            49.84,\n",
      "            48.28,\n",
      "            49.7,\n",
      "            null,\n",
      "            123019.0,\n",
      "            6085171.0,\n",
      "            null,\n",
      "            null,\n",
      "            null\n",
      "         ],\n",
      "         [\n",
      "            \"2017-11-29\",\n",
      "            49.64,\n",
      "            49.64,\n",
      "            48.7,\n",
      "            48.75,\n",
      "            null,\n",
      "            67342.0,\n",
      "            3292223.0,\n",
      "            null,\n",
      "            null,\n",
      "            null\n",
      "         ],\n",
      "         [\n",
      "            \"2017-11-28\",\n",
      "            49.09,\n",
      "            49.89,\n",
      "            49.03,\n",
      "            49.25,\n",
      "            null,\n",
      "            42669.0,\n",
      "            2107358.0,\n",
      "            null,\n",
      "            null,\n",
      "            null\n",
      "         ],\n",
      "         [\n",
      "            \"2017-11-27\",\n",
      "            49.13,\n",
      "            49.73,\n",
      "            48.96,\n",
      "            49.2,\n",
      "            null,\n",
      "            102180.0,\n",
      "            5055762.0,\n",
      "            null,\n",
      "            null,\n",
      "            null\n",
      "         ],\n",
      "         [\n",
      "            \"2017-11-24\",\n",
      "            49.11,\n",
      "            49.41,\n",
      "            48.87,\n",
      "            49.11,\n",
      "            null,\n",
      "            50350.0,\n",
      "            2472842.0,\n",
      "            null,\n",
      "            null,\n",
      "            null\n",
      "         ],\n",
      "         [\n",
      "            \"2017-11-23\",\n",
      "            48.8,\n",
      "            49.46,\n",
      "            48.45,\n",
      "            49.2,\n",
      "            null,\n",
      "            38834.0,\n",
      "            1909352.0,\n",
      "            null,\n",
      "            null,\n",
      "            null\n",
      "         ],\n",
      "         [\n",
      "            \"2017-11-22\",\n",
      "            48.4,\n",
      "            49.61,\n",
      "            48.39,\n",
      "            48.8,\n",
      "            null,\n",
      "            91142.0,\n",
      "            4478093.0,\n",
      "            null,\n",
      "            null,\n",
      "            null\n",
      "         ],\n",
      "         [\n",
      "            \"2017-11-21\",\n",
      "            47.25,\n",
      "            48.59,\n",
      "            46.78,\n",
      "            48.39,\n",
      "            null,\n",
      "            78502.0,\n",
      "            3782098.0,\n",
      "            null,\n",
      "            null,\n",
      "            null\n",
      "         ],\n",
      "         [\n",
      "            \"2017-11-20\",\n",
      "            46.57,\n",
      "            47.38,\n",
      "            46.54,\n",
      "            47.04,\n",
      "            null,\n",
      "            97252.0,\n",
      "            4563515.0,\n",
      "            null,\n",
      "            null,\n",
      "            null\n",
      "         ],\n",
      "         [\n",
      "            \"2017-11-17\",\n",
      "            47.03,\n",
      "            47.15,\n",
      "            46.8,\n",
      "            46.84,\n",
      "            null,\n",
      "            54107.0,\n",
      "            2540820.0,\n",
      "            null,\n",
      "            null,\n",
      "            null\n",
      "         ],\n",
      "         [\n",
      "            \"2017-11-16\",\n",
      "            47.09,\n",
      "            47.23,\n",
      "            46.55,\n",
      "            47.03,\n",
      "            null,\n",
      "            89373.0,\n",
      "            4195732.0,\n",
      "            null,\n",
      "            null,\n",
      "            null\n",
      "         ],\n",
      "         [\n",
      "            \"2017-11-15\",\n",
      "            47.98,\n",
      "            48.01,\n",
      "            46.75,\n",
      "            47.05,\n",
      "            null,\n",
      "            67593.0,\n",
      "            3188321.0,\n",
      "            null,\n",
      "            null,\n",
      "            null\n",
      "         ],\n",
      "         [\n",
      "            \"2017-11-14\",\n",
      "            48.4,\n",
      "            48.9,\n",
      "            47.84,\n",
      "            48.0,\n",
      "            null,\n",
      "            67672.0,\n",
      "            3259979.0,\n",
      "            null,\n",
      "            null,\n",
      "            null\n",
      "         ],\n",
      "         [\n",
      "            \"2017-11-13\",\n",
      "            48.38,\n",
      "            48.61,\n",
      "            47.76,\n",
      "            48.34,\n",
      "            null,\n",
      "            76286.0,\n",
      "            3681337.0,\n",
      "            null,\n",
      "            null,\n",
      "            null\n",
      "         ],\n",
      "         [\n",
      "            \"2017-11-10\",\n",
      "            47.3,\n",
      "            48.89,\n",
      "            47.16,\n",
      "            48.34,\n",
      "            null,\n",
      "            90245.0,\n",
      "            4361552.0,\n",
      "            null,\n",
      "            null,\n",
      "            null\n",
      "         ],\n",
      "         [\n",
      "            \"2017-11-09\",\n",
      "            47.65,\n",
      "            48.06,\n",
      "            47.09,\n",
      "            47.21,\n",
      "            null,\n",
      "            120268.0,\n",
      "            5712034.0,\n",
      "            null,\n",
      "            null,\n",
      "            null\n",
      "         ],\n",
      "         [\n",
      "            \"2017-11-08\",\n",
      "            46.42,\n",
      "            47.72,\n",
      "            46.42,\n",
      "            47.47,\n",
      "            null,\n",
      "            94195.0,\n",
      "            4463935.0,\n",
      "            null,\n",
      "            null,\n",
      "            null\n",
      "         ],\n",
      "         [\n",
      "            \"2017-11-07\",\n",
      "            46.16,\n",
      "            46.33,\n",
      "            45.84,\n",
      "            46.26,\n",
      "            null,\n",
      "            48152.0,\n",
      "            2224221.0,\n",
      "            null,\n",
      "            null,\n",
      "            null\n",
      "         ],\n",
      "         [\n",
      "            \"2017-11-06\",\n",
      "            45.81,\n",
      "            46.09,\n",
      "            45.76,\n",
      "            45.99,\n",
      "            null,\n",
      "            60716.0,\n",
      "            2789220.0,\n",
      "            null,\n",
      "            null,\n",
      "            null\n",
      "         ],\n",
      "         [\n",
      "            \"2017-11-03\",\n",
      "            45.0,\n",
      "            46.04,\n",
      "            44.83,\n",
      "            45.97,\n",
      "            null,\n",
      "            56911.0,\n",
      "            2603498.0,\n",
      "            null,\n",
      "            null,\n",
      "            null\n",
      "         ],\n",
      "         [\n",
      "            \"2017-11-02\",\n",
      "            45.88,\n",
      "            46.06,\n",
      "            45.18,\n",
      "            45.27,\n",
      "            null,\n",
      "            37958.0,\n",
      "            1724840.0,\n",
      "            null,\n",
      "            null,\n",
      "            null\n",
      "         ],\n",
      "         [\n",
      "            \"2017-11-01\",\n",
      "            46.2"
     ]
    },
    {
     "data": {
      "text/html": [
       "<b>limit_output extension: Maximum message size of 10000 exceeded with 62117 characters</b>"
      ]
     },
     "metadata": {},
     "output_type": "display_data"
    }
   ],
   "source": [
    "p = {'start_date':'2017-01-01','end_date':'2017-12-31'}\n",
    "source = requests.get(\"https://data.nasdaq.com/api/v3/datasets/FSE/AFX_X.json?api_key=9_fVkE8xTZRMwTqYLB9A\",\n",
    "                 params=p)\n",
    "\n",
    "# converts the class str in var r and converts it python object\n",
    "data = json.loads(source.text)\n",
    "\n",
    "print(json.dumps(data, indent=3, sort_keys=True))\n"
   ]
  },
  {
   "cell_type": "markdown",
   "metadata": {},
   "source": [
    "2. Convert the returned JSON object into a Python dictionary."
   ]
  },
  {
   "cell_type": "code",
   "execution_count": 8,
   "metadata": {
    "ExecuteTime": {
     "end_time": "2021-12-29T02:23:43.589179Z",
     "start_time": "2021-12-29T02:23:43.582226Z"
    }
   },
   "outputs": [
    {
     "name": "stdout",
     "output_type": "stream",
     "text": [
      "<class 'dict'>\n",
      "id\n",
      "dataset_code\n",
      "database_code\n",
      "name\n",
      "description\n",
      "refreshed_at\n",
      "newest_available_date\n",
      "oldest_available_date\n",
      "column_names\n",
      "frequency\n",
      "type\n",
      "premium\n",
      "limit\n",
      "transform\n",
      "column_index\n",
      "start_date\n",
      "end_date\n",
      "data\n",
      "collapse\n",
      "order\n",
      "database_id\n"
     ]
    }
   ],
   "source": [
    "print(type(data))\n",
    "\n",
    "for item in data['dataset']:\n",
    "    print(item)"
   ]
  },
  {
   "cell_type": "code",
   "execution_count": 9,
   "metadata": {
    "ExecuteTime": {
     "end_time": "2021-12-29T02:23:43.600259Z",
     "start_time": "2021-12-29T02:23:43.597285Z"
    }
   },
   "outputs": [],
   "source": [
    "data = data['dataset']"
   ]
  },
  {
   "cell_type": "code",
   "execution_count": 10,
   "metadata": {
    "ExecuteTime": {
     "end_time": "2021-12-29T02:23:43.613908Z",
     "start_time": "2021-12-29T02:23:43.604392Z"
    }
   },
   "outputs": [
    {
     "data": {
      "text/plain": [
       "'2017-12-31'"
      ]
     },
     "execution_count": 10,
     "metadata": {},
     "output_type": "execute_result"
    }
   ],
   "source": [
    "data['end_date']"
   ]
  },
  {
   "cell_type": "code",
   "execution_count": 11,
   "metadata": {
    "ExecuteTime": {
     "end_time": "2021-12-29T02:23:44.126480Z",
     "start_time": "2021-12-29T02:23:43.615964Z"
    }
   },
   "outputs": [
    {
     "name": "stdout",
     "output_type": "stream",
     "text": [
      "{'collapse': None,\n",
      " 'column_index': None,\n",
      " 'column_names': ['Date',\n",
      "                  'Open',\n",
      "                  'High',\n",
      "                  'Low',\n",
      "                  'Close',\n",
      "                  'Change',\n",
      "                  'Traded Volume',\n",
      "                  'Turnover',\n",
      "                  'Last Price of the Day',\n",
      "                  'Daily Traded Units',\n",
      "                  'Daily Turnover'],\n",
      " 'data': [['2017-12-29',\n",
      "           51.76,\n",
      "           51.94,\n",
      "           51.45,\n",
      "           51.76,\n",
      "           None,\n",
      "           34640.0,\n",
      "           1792304.0,\n",
      "           None,\n",
      "           None,\n",
      "           None],\n",
      "          ['2017-12-28',\n",
      "           51.65,\n",
      "           51.82,\n",
      "           51.43,\n",
      "           51.6,\n",
      "           None,\n",
      "           40660.0,\n",
      "           2099024.0,\n",
      "           None,\n",
      "           None,\n",
      "           None],\n",
      "          ['2017-12-27',\n",
      "           51.45,\n",
      "           51.89,\n",
      "           50.76,\n",
      "           51.82,\n",
      "           None,\n",
      "           57452.0,\n",
      "           2957018.0,\n",
      "           None,\n",
      "           None,\n",
      "           None],\n",
      "          ['2017-12-22',\n",
      "           51.05,\n",
      "           51.5,\n",
      "           50.92,\n",
      "           51.32,\n",
      "           None,\n",
      "           71165.0,\n",
      "           3641949.0,\n",
      "           None,\n",
      "           None,\n",
      "           None],\n",
      "          ['2017-12-21',\n",
      "           51.16,\n",
      "           51.52,\n",
      "           50.9,\n",
      "           51.4,\n",
      "           None,\n",
      "           120649.0,\n",
      "           6179433.0,\n",
      "           None,\n",
      "           None,\n",
      "           None],\n",
      "          ['2017-12-20',\n",
      "           51.88,\n",
      "           52.04,\n",
      "           51.2,\n",
      "           51.27,\n",
      "           None,\n",
      "           50587.0,\n",
      "           2610258.0,\n",
      "           None,\n",
      "           None,\n",
      "           None],\n",
      "          ['2017-12-19',\n",
      "           52.73,\n",
      "           52.73,\n",
      "           51.07,\n",
      "           51.66,\n",
      "           None,\n",
      "           137313.0,\n",
      "           7102361.0,\n",
      "           None,\n",
      "           None,\n",
      "           None],\n",
      "          ['2017-12-18',\n",
      "           52.37,\n",
      "           52.75,\n",
      "           51.61,\n",
      "           52.62,\n",
      "           None,\n",
      "           129733.0,\n",
      "           6770499.0,\n",
      "           None,\n",
      "           None,\n",
      "           None],\n",
      "          ['2017-12-15',\n",
      "           52.7,\n",
      "           52.7,\n",
      "           51.64,\n",
      "           52.01,\n",
      "           None,\n",
      "           204080.0,\n",
      "           10596319.0,\n",
      "           None,\n",
      "           None,\n",
      "           None],\n",
      "          ['2017-12-14',\n",
      "           53.11,\n",
      "           53.54,\n",
      "           52.15,\n",
      "           52.67,\n",
      "           None,\n",
      "           132981.0,\n",
      "           7016953.0,\n",
      "           None,\n",
      "           None,\n",
      "           None],\n",
      "          ['2017-12-13',\n",
      "           52.64,\n",
      "           53.35,\n",
      "           52.48,\n",
      "           53.09,\n",
      "           None,\n",
      "           128434.0,\n",
      "           6801159.0,\n",
      "           None,\n",
      "           None,\n",
      "           None],\n",
      "          ['2017-12-12',\n",
      "           52.29,\n",
      "           53.1,\n",
      "           51.82,\n",
      "           52.43,\n",
      "           None,\n",
      "           87911.0,\n",
      "           4615924.0,\n",
      "           None,\n",
      "           None,\n",
      "           None],\n",
      "          ['2017-12-11',\n",
      "           52.28,\n",
      "           52.45,\n",
      "           51.26,\n",
      "           52.14,\n",
      "           None,\n",
      "           71817.0,\n",
      "           3724193.0,\n",
      "           None,\n",
      "           None,\n",
      "           None],\n",
      "          ['2017-12-08',\n",
      "           51.5,\n",
      "           52.83,\n",
      "           51.28,\n",
      "           52.12,\n",
      "           None,\n",
      "           109157.0,\n",
      "           5690648.0,\n",
      "           None,\n",
      "           None,\n",
      "           None],\n",
      "          ['2017-12-07',\n",
      "           50.89,\n",
      "           51.47,\n",
      "           50.81,\n",
      "           51.47,\n",
      "           None,\n",
      "           48123.0,\n",
      "           2463848.0,\n",
      "           None,\n",
      "           None,\n",
      "           None],\n",
      "          ['2017-12-06',\n",
      "           50.8,\n",
      "           51.11,\n",
      "           50.39,\n",
      "           50.89,\n",
      "           None,\n",
      "           88730.0,\n",
      "           4504075.0,\n",
      "           None,\n",
      "           None,\n",
      "           None],\n",
      "          ['2017-12-05',\n",
      "           51.21,\n",
      "           51.38,\n",
      "           50.4,\n",
      "           51.25,\n",
      "           None,\n",
      "           83023.0,\n",
      "           4231971.0,\n",
      "           None,\n",
      "           None,\n",
      "           None],\n",
      "          ['2017-12-04',\n",
      "           49.5,\n",
      "           51.23,\n",
      "           49.5,\n",
      "           51.14,\n",
      "           None,\n",
      "           94385.0,\n",
      "           4800027.0,\n",
      "           None,\n",
      "           None,\n",
      "           None],\n",
      "          ['2017-12-01',\n",
      "           49.52,\n",
      "           50.49,\n",
      "           49.17,\n",
      "           49.86,\n",
      "           None,\n",
      "           101733.0,\n",
      "           5065932.0,\n",
      "           None,\n",
      "           None,\n",
      "           None],\n",
      "          ['2017-11-30',\n",
      "           48.64,\n",
      "           49.84,\n",
      "           48.28,\n",
      "           49.7,\n",
      "           None,\n",
      "           123019.0,\n",
      "           6085171.0,\n",
      "           None,\n",
      "           None,\n",
      "           None],\n",
      "          ['2017-11-29',\n",
      "           49.64,\n",
      "           49.64,\n",
      "           48.7,\n",
      "           48.75,\n",
      "           None,\n",
      "           67342.0,\n",
      "           3292223.0,\n",
      "           None,\n",
      "           None,\n",
      "           None],\n",
      "          ['2017-11-28',\n",
      "           49.09,\n",
      "           49.89,\n",
      "           49.03,\n",
      "           49.25,\n",
      "           None,\n",
      "           42669.0,\n",
      "           2107358.0,\n",
      "           None,\n",
      "           None,\n",
      "           None],\n",
      "          ['2017-11-27',\n",
      "           49.13,\n",
      "           49.73,\n",
      "           48.96,\n",
      "           49.2,\n",
      "           None,\n",
      "           102180.0,\n",
      "           5055762.0,\n",
      "           None,\n",
      "           None,\n",
      "           None],\n",
      "          ['2017-11-24',\n",
      "           49.11,\n",
      "           49.41,\n",
      "           48.87,\n",
      "           49.11,\n",
      "           None,\n",
      "           50350.0,\n",
      "           2472842.0,\n",
      "           None,\n",
      "           None,\n",
      "           None],\n",
      "          ['2017-11-23',\n",
      "           48.8,\n",
      "           49.46,\n",
      "           48.45,\n",
      "           49.2,\n",
      "           None,\n",
      "           38834.0,\n",
      "           1909352.0,\n",
      "           None,\n",
      "           None,\n",
      "           None],\n",
      "          ['2017-11-22',\n",
      "           48.4,\n",
      "           49.61,\n",
      "           48.39,\n",
      "           48.8,\n",
      "           None,\n",
      "           91142.0,\n",
      "           4478093.0,\n",
      "           None,\n",
      "           None,\n",
      "           None],\n",
      "          ['2017-11-21',\n",
      "           47.25,\n",
      "           48.59,\n",
      "           46.78,\n",
      "           48.39,\n",
      "           None,\n",
      "           78502.0,\n",
      "           3782098.0,\n",
      "           None,\n",
      "           None,\n",
      "           None],\n",
      "          ['2017-11-20',\n",
      "           46.57,\n",
      "           47.38,\n",
      "           46.54,\n",
      "           47.04,\n",
      "           None,\n",
      "           97252.0,\n",
      "           4563515.0,\n",
      "           None,\n",
      "           None,\n",
      "           None],\n",
      "          ['2017-11-17',\n",
      "           47.03,\n",
      "           47.15,\n",
      "           46.8,\n",
      "           46.84,\n",
      "           None,\n",
      "           54107.0,\n",
      "           2540820.0,\n",
      "           None,\n",
      "           None,\n",
      "           None],\n",
      "          ['2017-11-16',\n",
      "           47.09,\n",
      "           47.23,\n",
      "           46.55,\n",
      "           47.03,\n",
      "           None,\n",
      "           89373.0,\n",
      "           4195732.0,\n",
      "           None,\n",
      "           None,\n",
      "           None],\n",
      "          ['2017-11-15',\n",
      "           47.98,\n",
      "           48.01,\n",
      "           46.75,\n",
      "           47.05,\n",
      "           None,\n",
      "           67593.0,\n",
      "           3188321.0,\n",
      "           None,\n",
      "           None,\n",
      "           None],\n",
      "          ['2017-11-14',\n",
      "           48.4,\n",
      "           48.9,\n",
      "           47.84,\n",
      "           48.0,\n",
      "           None,\n",
      "           67672.0,\n",
      "           3259979.0,\n",
      "           None,\n",
      "           None,\n",
      "           None],\n",
      "          ['2017-11-13',\n",
      "           48.38,\n",
      "           48.61,\n",
      "           47.76,\n",
      "           48.34,\n",
      "           None,\n",
      "           76286.0,\n",
      "           3681337.0,\n",
      "           None,\n",
      "           None,\n",
      "           None],\n",
      "          ['2017-11-10',\n",
      "           47.3,\n",
      "           48.89,\n",
      "           47.16,\n",
      "           48.34,\n",
      "           None,\n",
      "           90245.0,\n",
      "           4361552.0,\n",
      "           None,\n",
      "           None,\n",
      "           None],\n",
      "          ['2017-11-09',\n",
      "           47.65,\n",
      "           48.06,\n",
      "           47.09,\n",
      "           47.21,\n",
      "           None,\n",
      "           120268.0,\n",
      "           5712034.0,\n",
      "           None,\n",
      "           None,\n",
      "           None],\n",
      "          ['2017-11-08',\n",
      "           46.42,\n",
      "           47.72,\n",
      "           46.42,\n",
      "           47.47,\n",
      "           None,\n",
      "           94195.0,\n",
      "           4463935.0,\n",
      "           None,\n",
      "           None,\n",
      "           None],\n",
      "          ['2017-11-07',\n",
      "           46.16,\n",
      "           46.33,\n",
      "           45.84,\n",
      "           46.26,\n",
      "           None,\n",
      "           48152.0,\n",
      "           2224221.0,\n",
      "           None,\n",
      "           None,\n",
      "           None],\n",
      "          ['2017-11-06',\n",
      "           45.81,\n",
      "           46.09,\n",
      "           45.76,\n",
      "           45.99,\n",
      "           None,\n",
      "           60716.0,\n",
      "           2789220.0,\n",
      "           None,\n",
      "           None,\n",
      "           None],\n",
      "          ['2017-11-03',\n",
      "           45.0,\n",
      "           46.04,\n",
      "           44.83,\n",
      "           45.97,\n",
      "           None,\n",
      "           56911.0,\n",
      "           2603498.0,\n",
      "           None,\n",
      "           None,\n",
      "           None],\n",
      "          ['2017-11-02',\n",
      "           45.88,\n",
      "           46.06,\n",
      "           45.18,\n",
      "           45.27,\n",
      "           None,\n",
      "           37958.0,\n",
      "           1724840.0,\n",
      "           None,\n",
      "           None,\n",
      "           None],\n",
      "          ['2017-11-01',\n",
      "           46.29,\n",
      "           46.55,\n",
      "           45.97,\n",
      "           46.04,\n",
      "           None,\n",
      "           56319.0,\n",
      "           2603859.0,\n",
      "           None,\n",
      "           None,\n",
      "           None],\n",
      "          ['2017-10-30',\n",
      "           46.53,\n",
      "           46.65,\n",
      "           45.61,\n",
      "           45.76,\n",
      "           None,\n",
      "           56245.0,\n",
      "           2585397.0,\n",
      "           None,\n",
      "           None,\n",
      "           None],\n",
      "          ['2017-10-27',\n",
      "           45.48,\n",
      "           46.42,\n",
      "           45.46,\n",
      "           46.41,\n",
      "           None,\n",
      "           74472.0,\n",
      "           3434087.0,\n",
      "           None,\n",
      "           None,\n",
      "           None],\n",
      "          ['2017-10-26',\n",
      "           45.2,\n",
      "           45.41,\n",
      "           44.91,\n",
      "           45.41,\n",
      "           None,\n",
      "           56319.0,\n",
      "           2548078.0,\n",
      "           None,\n",
      "           None,\n",
      "           None],\n",
      "          ['2017-10-25',\n",
      "           45.01,\n",
      "           45.06,\n",
      "           44.7,\n",
      "           45.0,\n",
      "           None,\n",
      "           47730.0,\n",
      "           2145697.0,\n",
      "           None,\n",
      "           None,\n",
      "           None],\n",
      "          ['2017-10-24',\n",
      "           45.16,\n",
      "           45.27,\n",
      "           44.75,\n",
      "           44.85,\n",
      "           None,\n",
      "           43042.0,\n",
      "           1937616.0,\n",
      "           None,\n",
      "           None,\n",
      "           None],\n",
      "          ['2017-10-23',\n",
      "           44.9,\n",
      "           45.34,\n",
      "    "
     ]
    },
    {
     "data": {
      "text/html": [
       "<b>limit_output extension: Maximum message size of 10000 exceeded with 22194 characters</b>"
      ]
     },
     "metadata": {},
     "output_type": "display_data"
    }
   ],
   "source": [
    "pp(data)"
   ]
  },
  {
   "cell_type": "code",
   "execution_count": 12,
   "metadata": {
    "ExecuteTime": {
     "end_time": "2021-12-29T02:23:44.133947Z",
     "start_time": "2021-12-29T02:23:44.129211Z"
    }
   },
   "outputs": [
    {
     "data": {
      "text/plain": [
       "dict"
      ]
     },
     "execution_count": 12,
     "metadata": {},
     "output_type": "execute_result"
    }
   ],
   "source": [
    "type(data)"
   ]
  },
  {
   "cell_type": "code",
   "execution_count": 13,
   "metadata": {
    "ExecuteTime": {
     "end_time": "2021-12-29T02:23:44.141052Z",
     "start_time": "2021-12-29T02:23:44.136591Z"
    }
   },
   "outputs": [
    {
     "data": {
      "text/plain": [
       "dict_keys(['id', 'dataset_code', 'database_code', 'name', 'description', 'refreshed_at', 'newest_available_date', 'oldest_available_date', 'column_names', 'frequency', 'type', 'premium', 'limit', 'transform', 'column_index', 'start_date', 'end_date', 'data', 'collapse', 'order', 'database_id'])"
      ]
     },
     "execution_count": 13,
     "metadata": {},
     "output_type": "execute_result"
    }
   ],
   "source": [
    "data.keys()"
   ]
  },
  {
   "cell_type": "code",
   "execution_count": 14,
   "metadata": {
    "ExecuteTime": {
     "end_time": "2021-12-29T02:23:44.152752Z",
     "start_time": "2021-12-29T02:23:44.144758Z"
    }
   },
   "outputs": [
    {
     "data": {
      "text/plain": [
       "['Date',\n",
       " 'Open',\n",
       " 'High',\n",
       " 'Low',\n",
       " 'Close',\n",
       " 'Change',\n",
       " 'Traded Volume',\n",
       " 'Turnover',\n",
       " 'Last Price of the Day',\n",
       " 'Daily Traded Units',\n",
       " 'Daily Turnover']"
      ]
     },
     "execution_count": 14,
     "metadata": {},
     "output_type": "execute_result"
    }
   ],
   "source": [
    "data['column_names']"
   ]
  },
  {
   "cell_type": "code",
   "execution_count": 15,
   "metadata": {
    "ExecuteTime": {
     "end_time": "2021-12-29T02:23:44.159474Z",
     "start_time": "2021-12-29T02:23:44.155273Z"
    }
   },
   "outputs": [
    {
     "data": {
      "text/plain": [
       "255"
      ]
     },
     "execution_count": 15,
     "metadata": {},
     "output_type": "execute_result"
    }
   ],
   "source": [
    "len(data['data'])"
   ]
  },
  {
   "cell_type": "code",
   "execution_count": 16,
   "metadata": {
    "ExecuteTime": {
     "end_time": "2021-12-29T02:23:44.168024Z",
     "start_time": "2021-12-29T02:23:44.162988Z"
    }
   },
   "outputs": [
    {
     "data": {
      "text/plain": [
       "['Date',\n",
       " 'Open',\n",
       " 'High',\n",
       " 'Low',\n",
       " 'Close',\n",
       " 'Change',\n",
       " 'Traded Volume',\n",
       " 'Turnover',\n",
       " 'Last Price of the Day',\n",
       " 'Daily Traded Units',\n",
       " 'Daily Turnover']"
      ]
     },
     "execution_count": 16,
     "metadata": {},
     "output_type": "execute_result"
    }
   ],
   "source": [
    "# we want high, low, close, traded volumne \n",
    "data['column_names']"
   ]
  },
  {
   "cell_type": "markdown",
   "metadata": {},
   "source": [
    "3. Calculate what the highest and lowest **opening prices** were for the stock in this period."
   ]
  },
  {
   "cell_type": "code",
   "execution_count": 17,
   "metadata": {
    "ExecuteTime": {
     "end_time": "2021-12-29T02:23:44.175296Z",
     "start_time": "2021-12-29T02:23:44.170776Z"
    }
   },
   "outputs": [
    {
     "data": {
      "text/plain": [
       "['2017-12-29',\n",
       " 51.76,\n",
       " 51.94,\n",
       " 51.45,\n",
       " 51.76,\n",
       " None,\n",
       " 34640.0,\n",
       " 1792304.0,\n",
       " None,\n",
       " None,\n",
       " None]"
      ]
     },
     "execution_count": 17,
     "metadata": {},
     "output_type": "execute_result"
    }
   ],
   "source": [
    "data['data'][0]"
   ]
  },
  {
   "cell_type": "code",
   "execution_count": 35,
   "metadata": {
    "ExecuteTime": {
     "end_time": "2021-12-29T02:28:10.347364Z",
     "start_time": "2021-12-29T02:28:10.344324Z"
    }
   },
   "outputs": [],
   "source": [
    "open_price = list()\n",
    "high = list()\n",
    "low = list()\n",
    "closing_price = list()\n",
    "traded_vol = list()"
   ]
  },
  {
   "cell_type": "code",
   "execution_count": 36,
   "metadata": {
    "ExecuteTime": {
     "end_time": "2021-12-29T02:28:10.967907Z",
     "start_time": "2021-12-29T02:28:10.963552Z"
    }
   },
   "outputs": [],
   "source": [
    "\n",
    "# open_price = [[data['data'][data][1]] for date in range(len(data['data'])) if \n",
    "#               [data['data'][data][1]] is None]\n",
    "\n",
    "\n",
    "for date in range(len(data['data'])):\n",
    "    open_price.append(data['data'][date][1])\n",
    "\n",
    "\n",
    "#     open_price = [data['data'][data][1]] if data['data'][data][1] != None]\n",
    "    high.append(data['data'][date][2])\n",
    "    low.append(data['data'][date][3])\n",
    "    closing_price.append(data['data'][date][4])\n",
    "    traded_vol.append(data['data'][date][6])\n",
    "#     print(open_price, high, low, closing_price, traded_vol)\n"
   ]
  },
  {
   "cell_type": "code",
   "execution_count": 37,
   "metadata": {
    "ExecuteTime": {
     "end_time": "2021-12-29T02:28:11.919127Z",
     "start_time": "2021-12-29T02:28:11.915919Z"
    },
    "code_folding": []
   },
   "outputs": [
    {
     "name": "stdout",
     "output_type": "stream",
     "text": [
      "[51.76, 51.65, 51.45, 51.05, 51.16, 51.88, 52.73, 52.37, 52.7, 53.11, 52.64, 52.29, 52.28, 51.5, 50.89, 50.8, 51.21, 49.5, 49.52, 48.64, 49.64, 49.09, 49.13, 49.11, 48.8, 48.4, 47.25, 46.57, 47.03, 47.09, 47.98, 48.4, 48.38, 47.3, 47.65, 46.42, 46.16, 45.81, 45.0, 45.88, 46.29, 46.53, 45.48, 45.2, 45.01, 45.16, 44.9, 45.08, 45.72, 46.01, 45.8, 45.61, 45.5, 45.58, 45.97, 45.64, 46.2, 46.19, 46.01, 45.36, 44.51, 43.58, 42.0, 42.35, 42.3, 42.3, 41.48, 42.29, 42.54, 42.65, 42.5, 42.29, 42.35, 42.49, 43.21, 42.81, 42.7, 43.0, 42.66, 43.0, 42.38, 42.16, 42.0, 42.0, 41.71, 42.11, 42.64, 42.72, 42.82, 42.46, 42.42, 42.28, 41.88, 42.4, 42.53, 42.12, 41.3, 41.73, 43.5, 44.9, 45.85, 45.13, 45.34, 45.25, 45.24, 44.94, 45.26, 45.16, 44.91, 44.7, 45.31, 45.57, 45.74, 45.06, 45.5, 45.6, 45.07, 44.67, 44.29, 44.94, 44.64, 44.79, 45.5, 44.67, 45.83, 45.29, 45.01, 45.73, 46.68, 47.23, 46.95, 47.29, 47.03, 47.46, 46.48, 46.9, 45.66, 46.34, 46.52, 46.5, 47.31, 46.77, 47.8, 47.01, 47.12, 46.8, 46.12, 45.22, 45.05, 45.61, 44.8, 44.8, 43.92, 43.67, 44.16, 43.74, 44.0, 45.06, 45.15, 45.09, 45.18, 43.4, 43.5, 41.83, 43.0, 42.52, 41.86, 42.2, 41.89, 42.17, 41.51, 41.88, 41.93, 42.01, 41.97, 42.5, 41.94, 42.24, 42.06, 42.02, 41.62, 41.46, 40.9, 40.96, 41.1, 39.5, 40.15, 39.77, 40.02, 39.39, 38.95, 38.73, 38.94, 39.01, 38.25, 41.8, 41.26, 41.47, 41.4, 41.4, 41.2, 41.4, 41.53, 41.61, 41.13, 41.5, 41.25, 41.12, 41.38, 41.19, 40.38, 39.75, 39.77, 39.72, 39.6, 38.85, 39.25, 38.8, 38.8, 38.5, 38.81, 37.37, 36.65, 36.2, 35.98, 35.56, 36.06, 36.02, 35.95, 34.75, 35.24, 35.38, 34.83, 35.07, 34.42, 34.0, 34.04, 34.54, 35.04, 35.04, 35.06, 34.85, 34.98, 35.38, 34.95, 34.8, 35.29, 34.91, 35.02, 35.48, 35.9, 34.99]\n"
     ]
    }
   ],
   "source": [
    "# removes Nonetype in open_price\n",
    "open_price = [price for price in open_price if price is not None]\n",
    "print(open_price)"
   ]
  },
  {
   "cell_type": "code",
   "execution_count": 38,
   "metadata": {
    "ExecuteTime": {
     "end_time": "2021-12-29T02:28:12.495545Z",
     "start_time": "2021-12-29T02:28:12.491883Z"
    }
   },
   "outputs": [
    {
     "data": {
      "text/plain": [
       "53.11"
      ]
     },
     "execution_count": 38,
     "metadata": {},
     "output_type": "execute_result"
    }
   ],
   "source": [
    "# highest open_price\n",
    "max(open_price)"
   ]
  },
  {
   "cell_type": "code",
   "execution_count": 39,
   "metadata": {
    "ExecuteTime": {
     "end_time": "2021-12-29T02:28:13.455133Z",
     "start_time": "2021-12-29T02:28:13.451510Z"
    }
   },
   "outputs": [
    {
     "data": {
      "text/plain": [
       "34.0"
      ]
     },
     "execution_count": 39,
     "metadata": {},
     "output_type": "execute_result"
    }
   ],
   "source": [
    "min(open_price)"
   ]
  },
  {
   "cell_type": "markdown",
   "metadata": {},
   "source": [
    "The highest opening price is **53.11** and the lowest opening price is **34.00**."
   ]
  },
  {
   "cell_type": "markdown",
   "metadata": {},
   "source": [
    "#### Question 4: What was the largest change in any one day (based on High and Low price)?\n",
    "\n",
    "```2.81```"
   ]
  },
  {
   "cell_type": "code",
   "execution_count": 40,
   "metadata": {
    "ExecuteTime": {
     "end_time": "2021-12-29T02:28:15.936353Z",
     "start_time": "2021-12-29T02:28:15.932419Z"
    }
   },
   "outputs": [
    {
     "name": "stdout",
     "output_type": "stream",
     "text": [
      "2.81\n"
     ]
    }
   ],
   "source": [
    "# holds high price - low price \n",
    "day_change = list()\n",
    "\n",
    "for h, l in zip(high,low):\n",
    "    day_change.append(h-l)\n",
    "    \n",
    "print(round(sorted(day_change)[-1],2))"
   ]
  },
  {
   "cell_type": "markdown",
   "metadata": {},
   "source": [
    "### 5. What was the largest change between any two days (based on Closing Price)?\n",
    "\n",
    "2.56"
   ]
  },
  {
   "cell_type": "code",
   "execution_count": 41,
   "metadata": {
    "ExecuteTime": {
     "end_time": "2021-12-29T02:28:18.813768Z",
     "start_time": "2021-12-29T02:28:18.810573Z"
    }
   },
   "outputs": [],
   "source": [
    "two_days_difference = list() "
   ]
  },
  {
   "cell_type": "code",
   "execution_count": 42,
   "metadata": {
    "ExecuteTime": {
     "end_time": "2021-12-29T02:28:19.845821Z",
     "start_time": "2021-12-29T02:28:19.837184Z"
    }
   },
   "outputs": [
    {
     "data": {
      "text/plain": [
       "range(0, 255)"
      ]
     },
     "execution_count": 42,
     "metadata": {},
     "output_type": "execute_result"
    }
   ],
   "source": [
    "range(len(closing_price))\n"
   ]
  },
  {
   "cell_type": "code",
   "execution_count": 43,
   "metadata": {
    "ExecuteTime": {
     "end_time": "2021-12-29T02:28:21.187108Z",
     "start_time": "2021-12-29T02:28:21.176619Z"
    }
   },
   "outputs": [
    {
     "name": "stdout",
     "output_type": "stream",
     "text": [
      "0\n",
      "1\n",
      "2\n"
     ]
    }
   ],
   "source": [
    "for x in range(3):\n",
    "    print(x)"
   ]
  },
  {
   "cell_type": "code",
   "execution_count": 44,
   "metadata": {
    "ExecuteTime": {
     "end_time": "2021-12-29T02:28:22.079718Z",
     "start_time": "2021-12-29T02:28:22.074038Z"
    }
   },
   "outputs": [],
   "source": [
    "two_days = [closing_price[x+1]-closing_price[x] \n",
    "            for x in range(len(closing_price)-1)]"
   ]
  },
  {
   "cell_type": "code",
   "execution_count": 45,
   "metadata": {
    "ExecuteTime": {
     "end_time": "2021-12-29T02:28:22.813722Z",
     "start_time": "2021-12-29T02:28:22.801881Z"
    }
   },
   "outputs": [
    {
     "data": {
      "text/plain": [
       "2.56"
      ]
     },
     "execution_count": 45,
     "metadata": {},
     "output_type": "execute_result"
    }
   ],
   "source": [
    "round(max(two_days),2)"
   ]
  },
  {
   "cell_type": "code",
   "execution_count": null,
   "metadata": {},
   "outputs": [],
   "source": []
  },
  {
   "cell_type": "code",
   "execution_count": null,
   "metadata": {},
   "outputs": [],
   "source": []
  },
  {
   "cell_type": "markdown",
   "metadata": {
    "ExecuteTime": {
     "end_time": "2021-12-25T09:03:47.825361Z",
     "start_time": "2021-12-25T09:03:47.821635Z"
    }
   },
   "source": [
    "#### 6. What was the average daily trading volume during this year\n",
    "\n",
    "89,123.34 shares"
   ]
  },
  {
   "cell_type": "code",
   "execution_count": 46,
   "metadata": {
    "ExecuteTime": {
     "end_time": "2021-12-29T02:28:27.188374Z",
     "start_time": "2021-12-29T02:28:27.185890Z"
    }
   },
   "outputs": [],
   "source": [
    "from statistics import mean"
   ]
  },
  {
   "cell_type": "code",
   "execution_count": 49,
   "metadata": {
    "ExecuteTime": {
     "end_time": "2021-12-29T02:28:48.127258Z",
     "start_time": "2021-12-29T02:28:48.122904Z"
    }
   },
   "outputs": [
    {
     "data": {
      "text/plain": [
       "89124.34"
      ]
     },
     "execution_count": 49,
     "metadata": {},
     "output_type": "execute_result"
    }
   ],
   "source": [
    "round(mean(traded_vol),2)"
   ]
  },
  {
   "cell_type": "markdown",
   "metadata": {},
   "source": [
    "7. (Optional) What was the median trading volume during this year. (Note: you may need to implement your own function for calculating the median.)"
   ]
  },
  {
   "cell_type": "markdown",
   "metadata": {},
   "source": [
    "For the year 2017, AFX_X has 255 entries. \n",
    "\n",
    "```76,286.00 shares```\n"
   ]
  },
  {
   "cell_type": "code",
   "execution_count": 54,
   "metadata": {
    "ExecuteTime": {
     "end_time": "2021-12-29T02:36:51.567472Z",
     "start_time": "2021-12-29T02:36:51.563266Z"
    }
   },
   "outputs": [],
   "source": [
    "def median(traded_vol):\n",
    "    traded_vol.sort()\n",
    "    \n",
    "    if len(traded_vol) % 2 != 0:\n",
    "        median = int((len(traded_vol)-1)/2)\n",
    "        return traded_vol[median]\n",
    "    \n",
    "    elif len(traded_vol) % 2 ==0:\n",
    "        median_idx_1 = int(len(traded_vol) / 2)\n",
    "        median_idx_2 = int(len(traded_vol) / 2) -1 \n",
    "        return int(mean(traded_vol[median_idx_1], \n",
    "                        traded_vol[median_idx_2]))\n",
    "    \n",
    "    \n"
   ]
  },
  {
   "cell_type": "code",
   "execution_count": 55,
   "metadata": {
    "ExecuteTime": {
     "end_time": "2021-12-29T02:37:01.791465Z",
     "start_time": "2021-12-29T02:37:01.787502Z"
    }
   },
   "outputs": [
    {
     "data": {
      "text/plain": [
       "76286.0"
      ]
     },
     "execution_count": 55,
     "metadata": {},
     "output_type": "execute_result"
    }
   ],
   "source": [
    "median(traded_vol)"
   ]
  },
  {
   "cell_type": "code",
   "execution_count": null,
   "metadata": {},
   "outputs": [],
   "source": []
  },
  {
   "cell_type": "code",
   "execution_count": null,
   "metadata": {},
   "outputs": [],
   "source": []
  }
 ],
 "metadata": {
  "hide_input": false,
  "interpreter": {
   "hash": "7635eb1b9d0fe97add78a7368b6b431c09bb8ad5c42e437d64abdd99821c31ae"
  },
  "kernelspec": {
   "display_name": "Python 3",
   "language": "python",
   "name": "python3"
  },
  "language_info": {
   "codemirror_mode": {
    "name": "ipython",
    "version": 3
   },
   "file_extension": ".py",
   "mimetype": "text/x-python",
   "name": "python",
   "nbconvert_exporter": "python",
   "pygments_lexer": "ipython3",
   "version": "3.8.5"
  },
  "latex_envs": {
   "LaTeX_envs_menu_present": true,
   "autoclose": false,
   "autocomplete": true,
   "bibliofile": "biblio.bib",
   "cite_by": "apalike",
   "current_citInitial": 1,
   "eqLabelWithNumbers": true,
   "eqNumInitial": 1,
   "hotkeys": {
    "equation": "Ctrl-E",
    "itemize": "Ctrl-I"
   },
   "labels_anchors": false,
   "latex_user_defs": false,
   "report_style_numbering": false,
   "user_envs_cfg": false
  },
  "toc": {
   "base_numbering": 1,
   "nav_menu": {},
   "number_sections": true,
   "sideBar": true,
   "skip_h1_title": false,
   "title_cell": "Table of Contents",
   "title_sidebar": "Contents",
   "toc_cell": false,
   "toc_position": {},
   "toc_section_display": true,
   "toc_window_display": false
  },
  "varInspector": {
   "cols": {
    "lenName": 16,
    "lenType": 16,
    "lenVar": 40
   },
   "kernels_config": {
    "python": {
     "delete_cmd_postfix": "",
     "delete_cmd_prefix": "del ",
     "library": "var_list.py",
     "varRefreshCmd": "print(var_dic_list())"
    },
    "r": {
     "delete_cmd_postfix": ") ",
     "delete_cmd_prefix": "rm(",
     "library": "var_list.r",
     "varRefreshCmd": "cat(var_dic_list()) "
    }
   },
   "types_to_exclude": [
    "module",
    "function",
    "builtin_function_or_method",
    "instance",
    "_Feature"
   ],
   "window_display": false
  }
 },
 "nbformat": 4,
 "nbformat_minor": 4
}
